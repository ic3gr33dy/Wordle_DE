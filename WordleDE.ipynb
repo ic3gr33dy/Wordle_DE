{
  "nbformat": 4,
  "nbformat_minor": 0,
  "metadata": {
    "colab": {
      "name": "WordleDE.ipynb",
      "provenance": [],
      "collapsed_sections": [],
      "toc_visible": true,
      "authorship_tag": "ABX9TyOrOAuMQLSt6+uXFHg8ws/y",
      "include_colab_link": true
    },
    "kernelspec": {
      "name": "python3",
      "display_name": "Python 3"
    },
    "language_info": {
      "name": "python"
    }
  },
  "cells": [
    {
      "cell_type": "markdown",
      "metadata": {
        "id": "view-in-github",
        "colab_type": "text"
      },
      "source": [
        "<a href=\"https://colab.research.google.com/github/ic3gr33dy/Wordle_DE/blob/main/WordleDE.ipynb\" target=\"_parent\"><img src=\"https://colab.research.google.com/assets/colab-badge.svg\" alt=\"Open In Colab\"/></a>"
      ]
    },
    {
      "cell_type": "code",
      "execution_count": null,
      "metadata": {
        "id": "AFGoMLkXD0fp"
      },
      "outputs": [],
      "source": [
        "from termcolor import colored\n",
        "import random\n",
        "import pandas as pd\n",
        "\n",
        "#Spiel Wordle in deutsch\n",
        "df = pd.read_csv('wordle_de.csv')\n",
        "r = random.randrange(len(df))\n",
        "word = df['Wort'][r]\n",
        "\n",
        "#df = pd.read_csv(r'./wordlede.csv')\n",
        "List_word = list(word) #Definiert das Wort, welches eraten werden soll im Listenformat\n",
        "print(List_word)\n",
        "inputlist = [\"\"]\n",
        "counter = 0 #Counter\n",
        "Versuche = 5 #Anzahl der Ratversuche\n",
        "spiel = True #Whileoperator\n",
        "outputword = \"\" #Ausgabe in Farben\n",
        "Buchstabe = 0 #Iterien von den Buchstaben zum färben\n",
        "\n",
        "while spiel:\n",
        "    counter = counter + 1\n",
        "    Versuche = Versuche - 1\n",
        "    input1 = input(\"Versuche das Wort zu erraten (Du darfst nur 5 Buchstaben verwenden) noch:\")\n",
        "    inputlist = list(input1)\n",
        "    if inputlist == List_word or counter == 5:\n",
        "        spiel = False\n",
        "        stringlist = \"\".join(List_word)\n",
        "        print(\"Das Wort lautet:\", (stringlist))\n",
        "    else:\n",
        "        for i in inputlist:\n",
        "            if i == List_word[Buchstabe]:\n",
        "                outputword = outputword + (colored(i, 'green'))\n",
        "            elif i in List_word:\n",
        "                outputword = outputword + (colored(i, 'yellow'))\n",
        "            else:\n",
        "                outputword = outputword + (\"_\")\n",
        "            Buchstabe = Buchstabe + 1\n",
        "        print(\"Fast, du haste es bald geschafft. Noch\", Versuche, \"Versuche\")\n",
        "        Buchstabe = 0\n",
        "    print(outputword)\n",
        "\n",
        "    outputword = \"\"\n",
        "\n",
        "\n"
      ]
    },
    {
      "cell_type": "markdown",
      "source": [
        "# Neuer Abschnitt"
      ],
      "metadata": {
        "id": "jQ927oZqVvGy"
      }
    },
    {
      "cell_type": "code",
      "source": [
        ""
      ],
      "metadata": {
        "id": "SalUC7ZhU45g"
      },
      "execution_count": null,
      "outputs": []
    }
  ]
}